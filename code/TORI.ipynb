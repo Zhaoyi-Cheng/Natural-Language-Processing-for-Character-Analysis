{
  "nbformat": 4,
  "nbformat_minor": 0,
  "metadata": {
    "colab": {
      "provenance": [],
      "machine_shape": "hm"
    },
    "kernelspec": {
      "name": "python3",
      "display_name": "Python 3"
    },
    "language_info": {
      "name": "python"
    }
  },
  "cells": [
    {
      "cell_type": "code",
      "source": [
        "!pip install EbookLib"
      ],
      "metadata": {
        "id": "TstqJAar_wHE",
        "colab": {
          "base_uri": "https://localhost:8080/"
        },
        "outputId": "6bb6b04e-d3da-4f99-901c-99948e584603"
      },
      "execution_count": null,
      "outputs": [
        {
          "output_type": "stream",
          "name": "stdout",
          "text": [
            "Collecting EbookLib\n",
            "  Downloading EbookLib-0.18.tar.gz (115 kB)\n",
            "\u001b[?25l     \u001b[90m━━━━━━━━━━━━━━━━━━━━━━━━━━━━━━━━━━━━━━━━\u001b[0m \u001b[32m0.0/115.5 kB\u001b[0m \u001b[31m?\u001b[0m eta \u001b[36m-:--:--\u001b[0m\r\u001b[2K     \u001b[90m━━━━━━━━━━━━━━━━━━━━━━━━━━━━━━━━━━━━━━━━\u001b[0m \u001b[32m115.5/115.5 kB\u001b[0m \u001b[31m3.2 MB/s\u001b[0m eta \u001b[36m0:00:00\u001b[0m\n",
            "\u001b[?25h  Preparing metadata (setup.py) ... \u001b[?25l\u001b[?25hdone\n",
            "Requirement already satisfied: lxml in /usr/local/lib/python3.10/dist-packages (from EbookLib) (4.9.4)\n",
            "Requirement already satisfied: six in /usr/local/lib/python3.10/dist-packages (from EbookLib) (1.16.0)\n",
            "Building wheels for collected packages: EbookLib\n",
            "  Building wheel for EbookLib (setup.py) ... \u001b[?25l\u001b[?25hdone\n",
            "  Created wheel for EbookLib: filename=EbookLib-0.18-py3-none-any.whl size=38778 sha256=c2188f09b63a0dac6b42b3aca872b0eaf5c707c9f3e05c72a6a6a4bfaff31b24\n",
            "  Stored in directory: /root/.cache/pip/wheels/0f/38/cc/a3728bb72a315d9d8766fb71d362136372066fc25ad838f8fa\n",
            "Successfully built EbookLib\n",
            "Installing collected packages: EbookLib\n",
            "Successfully installed EbookLib-0.18\n"
          ]
        }
      ]
    },
    {
      "cell_type": "code",
      "source": [
        "import urllib.request\n",
        "import ebooklib\n",
        "from ebooklib import epub"
      ],
      "metadata": {
        "id": "MGYOr2UH_myd"
      },
      "execution_count": null,
      "outputs": []
    },
    {
      "cell_type": "code",
      "source": [
        "from google.colab import drive\n",
        "drive.mount('/content/drive')"
      ],
      "metadata": {
        "id": "oTEsAmnzV8af",
        "colab": {
          "base_uri": "https://localhost:8080/"
        },
        "outputId": "d04b0ea5-ddb9-4b16-d6ed-4d9c702baa46"
      },
      "execution_count": null,
      "outputs": [
        {
          "output_type": "stream",
          "name": "stdout",
          "text": [
            "Mounted at /content/drive\n"
          ]
        }
      ]
    },
    {
      "cell_type": "code",
      "source": [
        "# Path to your EPUB file in Google Drive\n",
        "#epub_path = '/content/drive/My Drive/TORI_dataset/A_roomtour.epub'\n",
        "#epub_path = '/content/drive/My Drive/TORI_dataset/alice_wonderland.epub'\n",
        "#epub_path = '/content/drive/My Drive/TORI_dataset/enchanted_april.epub'\n",
        "#epub_path = '/content/drive/My Drive/TORI_dataset/Gatsby.epub'\n",
        "#epub_path = '/content/drive/My Drive/TORI_dataset/blue_castle.epub'\n",
        "epub_path = '/content/drive/My Drive/TORI_dataset/little_woman.epub'\n",
        "\n",
        "# Read the EPUB file\n",
        "book = epub.read_epub(epub_path)"
      ],
      "metadata": {
        "id": "6e7uVT-YnO5O"
      },
      "execution_count": null,
      "outputs": []
    },
    {
      "cell_type": "code",
      "source": [
        "def is_valid(epub_book):\n",
        "    \"\"\"Validates the structure of an EPUB book.\"\"\"\n",
        "    if not epub_book.toc:\n",
        "        print('Table of content is missing')\n",
        "        return False\n",
        "    if not epub_book.spine:\n",
        "        print('Spine is missing')\n",
        "        return False\n",
        "\n",
        "    # Check for stylesheets\n",
        "    stylesheets = [item for item in epub_book.get_items_of_type(ebooklib.ITEM_STYLE)]\n",
        "    if len(stylesheets) == 0:\n",
        "        print('No stylesheets')\n",
        "        return False\n",
        "\n",
        "    # Ensure chapters are not empty\n",
        "    for item in epub_book.spine:\n",
        "        if isinstance(item, epub.EpubHtml):\n",
        "            if not item.content.strip():\n",
        "                print(f\"Invalid book: Chapter '{item.get_id()}' is empty.\")\n",
        "                return False\n",
        "\n",
        "    return True"
      ],
      "metadata": {
        "id": "jP7OI5tX5R4b"
      },
      "execution_count": null,
      "outputs": []
    },
    {
      "cell_type": "code",
      "source": [
        "if is_valid(book):\n",
        "    print(\"The EPUB book is valid.\")\n",
        "else:\n",
        "    print(\"The EPUB book is not valid.\")"
      ],
      "metadata": {
        "colab": {
          "base_uri": "https://localhost:8080/"
        },
        "id": "x66Vuu-J5SN7",
        "outputId": "246c9e7d-840a-421c-dcf4-32c43745b491"
      },
      "execution_count": null,
      "outputs": [
        {
          "output_type": "stream",
          "name": "stdout",
          "text": [
            "The EPUB book is valid.\n"
          ]
        }
      ]
    },
    {
      "cell_type": "code",
      "source": [
        "def chapter_to_str(chapter):\n",
        "    \"\"\"Converts a chapter object into a string, filtering out non-textual elements.\"\"\"\n",
        "    soup = BeautifulSoup(chapter.get_body_content(), 'html.parser')\n",
        "    # Filtering out script and style elements\n",
        "    for script_or_style in soup([\"script\", \"style\"]):\n",
        "        script_or_style.decompose()\n",
        "    text = ' '.join(para.get_text(strip=True) for para in soup.find_all('p'))\n",
        "    return text"
      ],
      "metadata": {
        "id": "pYYfmktobcPN"
      },
      "execution_count": null,
      "outputs": []
    },
    {
      "cell_type": "code",
      "source": [
        "def is_wrapper(id):\n",
        "    \"\"\"\n",
        "    Determine if the item is the Gutenberg cover wrapper\n",
        "    \"\"\"\n",
        "    patterns = [\n",
        "        r'coverpage',\n",
        "        r'wrapper'\n",
        "    ]\n",
        "\n",
        "    return any(re.search(pattern, id, re.IGNORECASE) for pattern in patterns)"
      ],
      "metadata": {
        "id": "t1wkICuJbhbs"
      },
      "execution_count": null,
      "outputs": []
    },
    {
      "cell_type": "code",
      "source": [
        "def is_gutenberg_intro(item_content):\n",
        "    \"\"\"\n",
        "    Function to determine if the part of the content is Gutenberg introduction.\n",
        "    \"\"\"\n",
        "    # Pattern matching common Gutenberg intro phrases\n",
        "    patterns = [\n",
        "        r'Project Gutenberg',\n",
        "        r'\\bEBook\\b',\n",
        "        r'\\blicense\\b',\n",
        "        r'eBook or online at',\n",
        "        r'This eBook is for the use of'\n",
        "    ]\n",
        "    return any(re.search(pattern, item_content, re.IGNORECASE) for pattern in patterns)"
      ],
      "metadata": {
        "id": "ucIOZjr0brn-"
      },
      "execution_count": null,
      "outputs": []
    },
    {
      "cell_type": "code",
      "source": [
        "import re\n",
        "from bs4 import BeautifulSoup\n",
        "for spine_item in book.spine:\n",
        "    item_id = spine_item[0] if isinstance(spine_item, tuple) else spine_item\n",
        "    item = book.get_item_with_id(item_id)\n",
        "\n",
        "    if isinstance(item, epub.EpubHtml) and not is_wrapper(item.get_id()):\n",
        "        chapter_text = chapter_to_str(item)\n",
        "        if chapter_text.strip():  # Check if the extracted text is not just whitespace\n",
        "            print(f\"Chapter ID: {item.get_id()}\\nText:\\n{chapter_text[:500]}...\\n\")\n",
        "        else:\n",
        "            print(f\"Chapter ID: {item.get_id()} contains no readable content.\")"
      ],
      "metadata": {
        "colab": {
          "base_uri": "https://localhost:8080/"
        },
        "id": "s3SvntI6bxOz",
        "outputId": "b6f600a6-fdf7-4ee7-be40-5a26eee0b49a"
      },
      "execution_count": null,
      "outputs": [
        {
          "output_type": "stream",
          "name": "stdout",
          "text": [
            "Chapter ID: pg-header\n",
            "Text:\n",
            "Title: Little Women; Or, Meg, Jo, Beth, and Amy Author: Louisa May Alcott Illustrator: Frank T. Merrill Release date: August 16, 2011 [eBook #37106]Most recently updated: May 22, 2023 Language: English Credits: David Edwards, Ernest Schaal, Robert Homa, and the Online Distributed Proofreading Team (See page 9)Frontispiece LITTLE WOMEN OR Meg, Jo, Beth, and Amy  BY LOUISA M. ALCOTT AUTHOR OF \"LITTLE MEN,\" \"AN OLD-FASHIONED GIRL\"\"SPINNING-WHEEL STORIES,\" ETC.  With more than 200 illustrations by F...\n",
            "\n",
            "Chapter ID: item3\n",
            "Text:\n",
            "\"They are quite worn out;\n",
            "Marmee must have a new\n",
            "pair.\" \"I thought I'd get her some with my dollar,\" said Beth. \"No, I shall!\" cried Amy. \"I'm the oldest,\" began Meg, but Jo cut in with a decided— \"I'm the man of the family now papa is away, andIshall provide\n",
            "the slippers, for he told me to take special care of mother while he\n",
            "was gone.\" \"I'll tell you what we'll do,\" said Beth; \"let's each get her something\n",
            "for Christmas, and not get anything for ourselves.\" \"That's like you, dear! What will we...\n",
            "\n",
            "Chapter ID: item4\n",
            "Text:\n",
            "\"Ought they to smoke like that?\" asked Beth, from her perch on\n",
            "the bed. \"It's the dampness drying,\" replied Jo. \"What a queer smell! it's like burnt feathers,\" observed Amy,\n",
            "smoothing her own pretty curls with a superior air. \"There, now I'll take off the papers and you'll see a cloud of little\n",
            "ringlets,\" said Jo, putting down the tongs. She did take off the papers, but no cloud of ringlets appeared, for\n",
            "the hair came with the papers, and the horrified hair-dresser laid a\n",
            "row of little scorched ...\n",
            "\n",
            "Chapter ID: item5\n",
            "Text:\n",
            "V. BEING NEIGHBORLY. \"Whatin the world are you going to do\n",
            "now, Jo?\" asked Meg, one snowy afternoon,\n",
            "as her sister came tramping\n",
            "through the hall, in rubber boots, old\n",
            "sack and hood, with a broom in one\n",
            "hand and a shovel in the other. \"Going out for exercise,\" answered\n",
            "Jo, with a mischievous twinkle in her\n",
            "eyes. \"I should think two long walks this\n",
            "morning would have been enough!\n",
            "It's cold and dull out; and I advise\n",
            "you to stay, warm and dry, by the fire,\n",
            "as I do,\" said Meg, with a shiver. \"Never...\n",
            "\n",
            "Chapter ID: item6\n",
            "Text:\n",
            "\"You will now stand on the platform till recess,\" said Mr. Davis,\n",
            "resolved to do the thing thoroughly, since he had begun. That was dreadful. It would have been bad enough to go to her\n",
            "seat, and see the pitying faces of her friends, or the satisfied ones of\n",
            "her few enemies; but to face the whole school, with that shame fresh\n",
            "upon her, seemed impossible, and for a second she felt as if she\n",
            "could only drop down where she stood, and break her heart with\n",
            "crying. A bitter sense of wrong, and the thou...\n",
            "\n",
            "Chapter ID: item7\n",
            "Text:\n",
            "Keeping that warning carefully in mind, Margaret got safely down\n",
            "stairs, and sailed into the drawing-rooms, where the Moffats and a\n",
            "few early guests were assembled. She very soon discovered that\n",
            "there is a charm about fine clothes which attracts a certain class of\n",
            "people, and secures their respect. Several young ladies, who had\n",
            "taken no notice of her before, were very affectionate all of a sudden;\n",
            "several young gentlemen, who had only stared at her at the other\n",
            "party, now not only stared, but as...\n",
            "\n",
            "Chapter ID: item8\n",
            "Text:\n",
            "They all drank it merrily, and began the experiment by lounging\n",
            "for the rest of the day. Next morning, Meg did not appear till ten\n",
            "o'clock; her solitary breakfast did not taste nice, and the room seemed\n",
            "lonely and untidy; for Jo had not filled the vases, Beth had not dusted,\n",
            "and Amy's books lay scattered about. Nothing was neat and pleasant\n",
            "but \"Marmee's corner,\" which looked as usual; and there Meg sat,\n",
            "to \"rest and read,\" which meant yawn, and imagine what pretty\n",
            "summer dresses she\n",
            "would get w...\n",
            "\n",
            "Chapter ID: item9\n",
            "Text:\n",
            "\"Snuff-box,\" said Jo, in a sepulchral\n",
            "tone, which convulsed\n",
            "the audience. \"'Thankee,'\n",
            "said the knight politely, as he\n",
            "took a pinch, and sneezed seven\n",
            "times so violently that his head\n",
            "fell off. 'Ha! ha!' laughed\n",
            "the ghost; and having peeped\n",
            "through the key-hole at the\n",
            "princesses spinning away for\n",
            "dear life, the evil spirit picked\n",
            "up her victim and put him in a large tin box, where there were eleven\n",
            "other knights packed together without their heads, like sardines, who\n",
            "all rose and began to—\" \"Danc...\n",
            "\n",
            "Chapter ID: item10\n",
            "Text:\n",
            "\"Hurrah for Miss March, the celebrated American authoress!\"\n",
            "cried Laurie, throwing up his hat and catching it again, to the great\n",
            "delight of two ducks, four cats, five hens, and half a dozen Irish children;\n",
            "for they were out of the city now. \"Hush! It won't come to anything, I dare say; but I couldn't\n",
            "rest till I had tried, and I said nothing about it, because I didn't\n",
            "want any one else to be disappointed.\" \"It won't fail. Why, Jo, your stories are works of Shakespeare,\n",
            "compared to half the rubb...\n",
            "\n",
            "Chapter ID: item11\n",
            "Text:\n",
            "\"Dear Mother,— \"There is only room for me to send my love, and some pressed\n",
            "pansies from the root I have been keeping safe in the house for\n",
            "father to see. I read every morning, try to be good all day, and sing\n",
            "myself to sleep with father's tune. I can't sing 'Land of the Leal'\n",
            "now; it makes me cry. Every one is very kind, and we are as happy\n",
            "as we can be without you. Amy wants the rest of the page, so I\n",
            "must stop. I didn't forget to cover the holders, and I wind the clock\n",
            "and air the rooms every...\n",
            "\n",
            "Chapter ID: item12\n",
            "Text:\n",
            "\"Which would Mademoiselle choose if she had her will?\" asked\n",
            "Esther, who always sat near to watch over and lock up the valuables. \"I like the diamonds best, but there is no necklace among them,\n",
            "and I'm fond of necklaces, they are so becoming. I should choose\n",
            "this if I might,\" replied Amy, looking with great admiration at a\n",
            "string of gold and ebony beads, from which hung a heavy cross of\n",
            "the same. \"I, too, covet that, but not as a necklace; ah, no! to me it is a rosary,\n",
            "and as such I should use i...\n",
            "\n",
            "Chapter ID: item13\n",
            "Text:\n",
            "\"I know Meg would wet-blanket such a proposal, but I thought\n",
            "you had more spirit,\" began Laurie insinuatingly. \"Bad boy, be quiet! Sit down and think of your own sins, don't\n",
            "go making me add to mine. If I get your grandpa to apologize for\n",
            "the shaking, will you give up running away?\" asked Jo seriously. \"Yes, but you won't do it,\" answered Laurie, who wished \"to\n",
            "make up,\" but felt that his outraged dignity must be appeased first. \"If I can manage the young one I can the old one,\" muttered Jo,\n",
            "as ...\n",
            "\n",
            "Chapter ID: item14\n",
            "Text:\n",
            "But Jo was mistaken; for Laurie came prancing in, overflowing with\n",
            "spirits, bearing a great bridal-looking bouquet for \"Mrs. John Brooke,\"\n",
            "and evidently laboring under the delusion that the whole affair had\n",
            "been brought about by his excellent management. \"I knew Brooke would have it all his own way, he always does; for\n",
            "when he makes up his mind to accomplish anything, it's done, though\n",
            "the sky falls,\" said Laurie, when he had presented his offering and his\n",
            "congratulations. \"Much obliged for that...\n",
            "\n",
            "Chapter ID: item15\n",
            "Text:\n",
            "Charcoal portraits came next; and the entire family hung in a row,\n",
            "looking as wild and crocky as if just evoked from a coal-bin. Softened\n",
            "into crayon sketches, they did better; for the likenesses were\n",
            "good, and Amy's hair, Jo's nose, Meg's mouth, and Laurie's eyes\n",
            "were pronounced \"wonderfully fine.\" A return to clay and plaster\n",
            "followed, and ghostly casts of her acquaintances haunted corners of\n",
            "the house, or tumbled off closet-shelves on to people's heads. Children\n",
            "were enticed in as models, til...\n",
            "\n",
            "Chapter ID: item16\n",
            "Text:\n",
            "\"Oh dear,\" thought Meg, \"married life is very trying, and does\n",
            "need infinite patience, as well as love, as mother says.\" The word\n",
            "\"mother\" suggested other maternal counsels, given long ago, and\n",
            "received with unbelieving protests. \"John is a good man, but he has his faults, and you must learn to\n",
            "see and bear with them, remembering your own. He is very decided,\n",
            "but never will be obstinate, if you reason kindly, not oppose impatiently.\n",
            "He is very accurate, and particular about the truth—a good\n",
            "trai...\n",
            "\n",
            "Chapter ID: item17\n",
            "Text:\n",
            "XXX. CONSEQUENCES. Mrs. Chester'sfair was so very elegant and select that it was\n",
            "considered a great honor by the young ladies of the neighborhood to\n",
            "be invited to take a table, and every one was much interested in the\n",
            "matter. Amy was asked, but Jo was not, which was fortunate for all\n",
            "parties, as her elbows were decidedly akimbo at this period of her life,\n",
            "and it took a good many hard knocks to teach her how to get on\n",
            "easily. The \"haughty, uninteresting creature\" was let severely alone;\n",
            "but Amy's...\n",
            "\n",
            "Chapter ID: item18\n",
            "Text:\n",
            "\"All serene! Coming in to-night.\" Beth started, leaned forward, smiled and nodded, watched the\n",
            "passer-by till his quick tramp died away, then said softly, as if to herself,— \"How strong and well and happy that dear boy looks.\" \"Hum!\" said Jo, still intent upon her sister's face; for the bright\n",
            "color faded as quickly as it came, the smile vanished, and presently\n",
            "a tear lay shining on the window-ledge. Beth whisked it off, and\n",
            "glanced apprehensively at Jo; but she was scratching away at a tremendo...\n",
            "\n",
            "Chapter ID: item19\n",
            "Text:\n",
            "XXXIV. A FRIEND. Thoughvery happy in the social atmosphere about her, and very\n",
            "busy with the daily work that earned her bread, and made it sweeter\n",
            "for the effort, Jo still found time for literary labors. The purpose\n",
            "which now took possession of her was a natural one to a poor and\n",
            "ambitious girl; but the means she took to gain her end were not the\n",
            "best. She saw that money conferred power: money and power, therefore,\n",
            "she resolved to have; not to be used for herself alone, but for\n",
            "those whom she lo...\n",
            "\n",
            "Chapter ID: item20\n",
            "Text:\n",
            "\"Teddy, dear, I wish I could!\" That was all, except a little pause; then Laurie straightened himself\n",
            "up, said \"It's all right, never mind,\" and went away without another\n",
            "word. Ah, but it wasn't all right, and Jodidmind; for while the\n",
            "curly head lay on her arm a minute after her hard answer, she felt as\n",
            "if she had stabbed her dearest friend; and when he left her without\n",
            "a look behind him, she knew that the boy Laurie never would come\n",
            "again. XXXVI. BETH'S SECRET. WhenJo came home that spring, she ...\n",
            "\n",
            "Chapter ID: item21\n",
            "Text:\n",
            "\"Mornin' now,\" announced Demi, in a\n",
            "joyful tone, as he entered, with his long\n",
            "night-gown gracefully festooned over his\n",
            "arm, and every curl bobbing gayly as\n",
            "he pranced about the table, eying the\n",
            "\"cakies\" with loving glances. \"No, it isn't morning yet. You must\n",
            "go to bed, and not trouble poor mamma;\n",
            "then you can have the little cake with sugar on it.\" \"Me loves parpar,\" said the artful one, preparing to climb the paternal\n",
            "knee, and revel in forbidden joys. But John shook his head,\n",
            "and said to Meg,...\n",
            "\n",
            "Chapter ID: item22\n",
            "Text:\n",
            "\"Sitting patient in the shadow Till the blessed light shall come, A serene and saintly presence Sanctifies our troubled home. Earthly joys and hopes and sorrows Break like ripples on the strand Of the deep and solemn river Where her willing feet now stand. \"O my sister, passing from me, Out of human care and strife, Leave me, as a gift, those virtues Which have beautified your life. Dear, bequeath me that great patience Which has power to sustain A cheerful, uncomplaining spirit In its prison-ho...\n",
            "\n",
            "Chapter ID: item23\n",
            "Text:\n",
            "Was it all self-pity, loneliness, or low spirits? or was it the waking\n",
            "up of a sentiment which had bided its time as patiently as its inspirer?\n",
            "Who shall say? XLIII. SURPRISES. Jowas alone in the twilight, lying on the old sofa, looking at the\n",
            "fire, and thinking. It was her favorite way of spending the hour of\n",
            "dusk; no one disturbed her, and she used to lie there on Beth's little\n",
            "red pillow, planning stories, dreaming dreams, or thinking tender\n",
            "thoughts of the sister who never seemed far away. H...\n",
            "\n",
            "Chapter ID: item24\n",
            "Text:\n",
            "XLV. DAISY AND DEMI. I cannotfeel that I have done my duty as humble historian of the\n",
            "March family, without devoting at least one chapter to the two most\n",
            "precious and important members of it. Daisy and Demi had now\n",
            "arrived at years of discretion; for in this fast age babies of three or\n",
            "four assert their rights, and get them, too, which is more than many\n",
            "of their elders do. If there ever were a pair of twins in danger of\n",
            "being utterly spoilt by adoration, it was these prattling Brookes. Of\n",
            "course...\n",
            "\n",
            "Chapter ID: item25\n",
            "Text:\n",
            "Jo never, never would learn to be proper; for when he said that as\n",
            "they stood upon the steps, she just put both hands into his, whispering\n",
            "tenderly, \"Not empty now;\" and, stooping down, kissed her\n",
            "Friedrich under the umbrella. It was dreadful, but she would have\n",
            "done it if the flock of draggle-tailed sparrows on the hedge had been\n",
            "human beings, for she was very far gone indeed, and quite regardless\n",
            "of everything but her own happiness. Though it came in such a\n",
            "very simple guise, that was the crow...\n",
            "\n",
            "Chapter ID: item26 contains no readable content.\n"
          ]
        }
      ]
    },
    {
      "cell_type": "code",
      "source": [
        "filtered_chapters = []\n",
        "\n",
        "for spine_item in book.spine:\n",
        "    item_id = spine_item[0] if isinstance(spine_item, tuple) else spine_item\n",
        "    item = book.get_item_with_id(item_id)\n",
        "    if isinstance(item, epub.EpubHtml) and not is_wrapper(item.get_id()):\n",
        "        chapter_text = chapter_to_str(item)\n",
        "        if chapter_text.strip():\n",
        "            filtered_chapters.append(chapter_text)\n",
        "            print(f\"Content from Item ID: {item.get_id()} added.\")\n",
        "        else:\n",
        "            print(f\"Item ID: {item.get_id()} contains no readable content.\")\n",
        "    else:\n",
        "        print(f\"Item ID: {item.get_id()} skipped as non-content.\")\n"
      ],
      "metadata": {
        "colab": {
          "base_uri": "https://localhost:8080/"
        },
        "id": "3y_SdPqaFKJx",
        "outputId": "905ecda5-6bf7-4be4-f824-2bfd655bb78c"
      },
      "execution_count": null,
      "outputs": [
        {
          "output_type": "stream",
          "name": "stdout",
          "text": [
            "Item ID: coverpage-wrapper skipped as non-content.\n",
            "Content from Item ID: pg-header added.\n",
            "Content from Item ID: item3 added.\n",
            "Content from Item ID: item4 added.\n",
            "Content from Item ID: item5 added.\n",
            "Content from Item ID: item6 added.\n",
            "Content from Item ID: item7 added.\n",
            "Content from Item ID: item8 added.\n",
            "Content from Item ID: item9 added.\n",
            "Content from Item ID: item10 added.\n",
            "Content from Item ID: item11 added.\n",
            "Content from Item ID: item12 added.\n",
            "Content from Item ID: item13 added.\n",
            "Content from Item ID: item14 added.\n",
            "Content from Item ID: item15 added.\n",
            "Content from Item ID: item16 added.\n",
            "Content from Item ID: item17 added.\n",
            "Content from Item ID: item18 added.\n",
            "Content from Item ID: item19 added.\n",
            "Content from Item ID: item20 added.\n",
            "Content from Item ID: item21 added.\n",
            "Content from Item ID: item22 added.\n",
            "Content from Item ID: item23 added.\n",
            "Content from Item ID: item24 added.\n",
            "Content from Item ID: item25 added.\n",
            "Item ID: item26 contains no readable content.\n"
          ]
        }
      ]
    },
    {
      "cell_type": "code",
      "source": [
        "print(\"Number of filtered chapters:\", len(filtered_chapters))\n",
        "for chapter in filtered_chapters[:3]:\n",
        "    print(chapter[:500], \"...\")  # Print the first 500 characters of each chapter for review\n"
      ],
      "metadata": {
        "colab": {
          "base_uri": "https://localhost:8080/"
        },
        "id": "Ix-7K43lN2qh",
        "outputId": "568088bd-77ba-4fe3-e685-7a21de7f69f5"
      },
      "execution_count": null,
      "outputs": [
        {
          "output_type": "stream",
          "name": "stdout",
          "text": [
            "Number of filtered chapters: 24\n",
            "Title: Little Women; Or, Meg, Jo, Beth, and Amy Author: Louisa May Alcott Illustrator: Frank T. Merrill Release date: August 16, 2011 [eBook #37106]Most recently updated: May 22, 2023 Language: English Credits: David Edwards, Ernest Schaal, Robert Homa, and the Online Distributed Proofreading Team (See page 9)Frontispiece LITTLE WOMEN OR Meg, Jo, Beth, and Amy  BY LOUISA M. ALCOTT AUTHOR OF \"LITTLE MEN,\" \"AN OLD-FASHIONED GIRL\"\"SPINNING-WHEEL STORIES,\" ETC.  With more than 200 illustrations by F ...\n",
            "\"They are quite worn out;\n",
            "Marmee must have a new\n",
            "pair.\" \"I thought I'd get her some with my dollar,\" said Beth. \"No, I shall!\" cried Amy. \"I'm the oldest,\" began Meg, but Jo cut in with a decided— \"I'm the man of the family now papa is away, andIshall provide\n",
            "the slippers, for he told me to take special care of mother while he\n",
            "was gone.\" \"I'll tell you what we'll do,\" said Beth; \"let's each get her something\n",
            "for Christmas, and not get anything for ourselves.\" \"That's like you, dear! What will we ...\n",
            "\"Ought they to smoke like that?\" asked Beth, from her perch on\n",
            "the bed. \"It's the dampness drying,\" replied Jo. \"What a queer smell! it's like burnt feathers,\" observed Amy,\n",
            "smoothing her own pretty curls with a superior air. \"There, now I'll take off the papers and you'll see a cloud of little\n",
            "ringlets,\" said Jo, putting down the tongs. She did take off the papers, but no cloud of ringlets appeared, for\n",
            "the hair came with the papers, and the horrified hair-dresser laid a\n",
            "row of little scorched  ...\n"
          ]
        }
      ]
    },
    {
      "cell_type": "code",
      "source": [
        "combined_text = \"\\n\\n\".join(filtered_chapters)  # Join all chapters, separated by two newlines"
      ],
      "metadata": {
        "id": "qPzcu6w2N-NO"
      },
      "execution_count": null,
      "outputs": []
    },
    {
      "cell_type": "code",
      "source": [
        "output_path = '/content/drive/My Drive/TORI_dataset/TORI_Book_little_woman.txt'\n",
        "\n",
        "with open(output_path, 'w', encoding='utf-8') as file:\n",
        "    file.write(combined_text)"
      ],
      "metadata": {
        "id": "uKoj88VuOBAw"
      },
      "execution_count": null,
      "outputs": []
    }
  ]
}